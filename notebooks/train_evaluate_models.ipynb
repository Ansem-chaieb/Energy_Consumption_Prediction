{
 "cells": [
  {
   "cell_type": "code",
   "execution_count": 2,
   "metadata": {},
   "outputs": [
    {
     "name": "stderr",
     "output_type": "stream",
     "text": [
      "/home/ansem/Desktop/ve2max_assessment/myenv/lib/python3.8/site-packages/scipy/__init__.py:146: UserWarning: A NumPy version >=1.16.5 and <1.23.0 is required for this version of SciPy (detected version 1.23.0\n",
      "  warnings.warn(f\"A NumPy version >={np_minversion} and <{np_maxversion}\"\n",
      "2024-07-28 20:58:43.302665: I tensorflow/tsl/cuda/cudart_stub.cc:28] Could not find cuda drivers on your machine, GPU will not be used.\n",
      "2024-07-28 20:58:43.366390: I tensorflow/tsl/cuda/cudart_stub.cc:28] Could not find cuda drivers on your machine, GPU will not be used.\n",
      "2024-07-28 20:58:43.367217: I tensorflow/core/platform/cpu_feature_guard.cc:182] This TensorFlow binary is optimized to use available CPU instructions in performance-critical operations.\n",
      "To enable the following instructions: AVX2 FMA, in other operations, rebuild TensorFlow with the appropriate compiler flags.\n",
      "2024-07-28 20:58:44.719599: W tensorflow/compiler/tf2tensorrt/utils/py_utils.cc:38] TF-TRT Warning: Could not find TensorRT\n"
     ]
    }
   ],
   "source": [
    "import os\n",
    "import sys\n",
    "sys.path.append('../')\n",
    "import math\n",
    "import numpy as np\n",
    "from src.dataset import EnergyDataset\n",
    "from src.modeling.train import EnergyModelTrainer\n",
    "import pandas as pd\n",
    "from sklearn.metrics import mean_absolute_error, mean_squared_error\n",
    "import matplotlib.pyplot as plt\n",
    "from sktime.utils.plotting import plot_series\n",
    "import seaborn as sns\n",
    "import matplotlib.pyplot as plt\n",
    "from tensorflow.keras.models import load_model\n",
    "\n",
    "save_path = 'models'\n",
    "os.makedirs(save_path, exist_ok=True)"
   ]
  },
  {
   "cell_type": "code",
   "execution_count": 3,
   "metadata": {},
   "outputs": [
    {
     "name": "stdout",
     "output_type": "stream",
     "text": [
      "['voltage', 'reactive_power', 'power_factor', 'temp', 'feels_like', 'temp_min', 'temp_max', 'pressure', 'humidity', 'speed', 'deg', 'active_power_lag_1', 'active_power_lag_8', 'year', 'month_of_year', 'week_of_year', 'day_of_year', 'day_of_week', 'hour_of_day', 'is_weekend', 'is_holiday', 'temp_mean_window_24', 'temp_std_window_24', 'temp_mean_window_168', 'temp_std_window_168', 'temp_mean_window_8760', 'temp_std_window_8760', 'feels_like_mean_window_24', 'feels_like_std_window_24', 'feels_like_mean_window_168', 'feels_like_std_window_168', 'feels_like_mean_window_8760', 'feels_like_std_window_8760', 'temp_min_mean_window_24', 'temp_min_std_window_24', 'temp_min_mean_window_168', 'temp_min_std_window_168', 'temp_min_mean_window_8760', 'temp_min_std_window_8760', 'temp_max_mean_window_24', 'temp_max_std_window_24', 'temp_max_mean_window_168', 'temp_max_std_window_168', 'temp_max_mean_window_8760', 'temp_max_std_window_8760', 'pressure_mean_window_24', 'pressure_std_window_24', 'pressure_mean_window_168', 'pressure_std_window_168', 'pressure_mean_window_8760', 'pressure_std_window_8760', 'humidity_mean_window_24', 'humidity_std_window_24', 'humidity_mean_window_168', 'humidity_std_window_168', 'humidity_mean_window_8760', 'humidity_std_window_8760', 'speed_mean_window_24', 'speed_std_window_24', 'speed_mean_window_168', 'speed_std_window_168', 'speed_mean_window_8760', 'speed_std_window_8760', 'deg_mean_window_24', 'deg_std_window_24', 'deg_mean_window_168', 'deg_std_window_168', 'deg_mean_window_8760', 'deg_std_window_8760', 'temp_mean_expanding', 'temp_std_expanding', 'feels_like_mean_expanding', 'feels_like_std_expanding', 'temp_min_mean_expanding', 'temp_min_std_expanding', 'temp_max_mean_expanding', 'temp_max_std_expanding', 'pressure_mean_expanding', 'pressure_std_expanding', 'humidity_mean_expanding', 'humidity_std_expanding', 'speed_mean_expanding', 'speed_std_expanding', 'deg_mean_expanding', 'deg_std_expanding', 'main_Clouds', 'main_Drizzle', 'main_Fog', 'main_Haze', 'main_Mist', 'main_Rain', 'main_Thunderstorm', 'description_clear sky', 'description_drizzle', 'description_few clouds', 'description_fog', 'description_haze', 'description_heavy intensity rain', 'description_light intensity drizzle', 'description_light rain', 'description_mist', 'description_moderate rain', 'description_overcast clouds', 'description_scattered clouds', 'description_thunderstorm', 'description_thunderstorm with rain', 'description_very heavy rain', 'date', 'active_power']\n"
     ]
    }
   ],
   "source": [
    "dataset = EnergyDataset(data_path=\"../data/raw/data.csv\")\n",
    "dataset._perform_feature_engineering()\n",
    "X_train, X_test, y_train, y_test = dataset._train_test_split()\n",
    "trainer = EnergyModelTrainer(X_train, y_train)"
   ]
  },
  {
   "cell_type": "code",
   "execution_count": null,
   "metadata": {},
   "outputs": [],
   "source": [
    "#arima_predictions, arima_training_time, y_test, dates = trainer.train_evaluate_arima()\n",
    "#prophet_predictions, prophet_training_time = trainer.train_evaluate_prophet()\n",
    "lstm_predictions, lstm_training_time = trainer.train_evaluate_lstm()"
   ]
  },
  {
   "cell_type": "code",
   "execution_count": null,
   "metadata": {},
   "outputs": [],
   "source": [
    "def predict_test_lstm(X_test, model_path='../models/lstm_model_2.h5'):\n",
    "      \n",
    "      loaded_model = load_model(os.path.join(save_path, model_path))\n",
    "\n",
    "      X_test = X_test.drop(columns=[\"date\"])\n",
    "      X_test_values = X_test.values\n",
    "\n",
    "      timesteps = 1\n",
    "      num_features = X_test_values.shape[1]\n",
    "      X_test_reshaped = X_test_values.reshape((X_test_values.shape[0], timesteps, num_features))\n",
    "\n",
    "      predictions = loaded_model.predict(X_test_reshaped).flatten()\n",
    "\n",
    "      return predictions"
   ]
  },
  {
   "cell_type": "code",
   "execution_count": null,
   "metadata": {},
   "outputs": [],
   "source": [
    "lstm_test_predictions = predict_test_lstm(X_test)\n",
    "\n",
    "score_mae = mean_absolute_error(y_test, lstm_test_predictions)\n",
    "score_rmse = math.sqrt(mean_squared_error(y_test, lstm_test_predictions))\n",
    "print(f\"LSTM Test Set: MAE: {score_mae:.4f}, RMSE: {score_rmse:.4f}\")"
   ]
  },
  {
   "cell_type": "code",
   "execution_count": null,
   "metadata": {},
   "outputs": [],
   "source": [
    "df_train = pd.DataFrame({\n",
    "    'Date': dates,\n",
    "    'y_train': y_test\n",
    "})\n",
    "\n",
    "df_predictions = pd.DataFrame({\n",
    "    'Date': dates,\n",
    "    'LSTM_Predictions': lstm_test_predictions\n",
    "})\n",
    "\n",
    "df_train.reset_index(drop=True, inplace=True)\n",
    "df_predictions.reset_index(drop=True, inplace=True)\n",
    "\n",
    "df_train['Date'] = pd.to_datetime(df_train['Date']).dt.date\n",
    "df_predictions['Date'] = pd.to_datetime(df_predictions['Date']).dt.date\n",
    "\n",
    "print(df_train.head())\n",
    "print(df_predictions.head())"
   ]
  },
  {
   "cell_type": "code",
   "execution_count": null,
   "metadata": {},
   "outputs": [],
   "source": [
    "\n",
    "def round_by_second_digit(value):\n",
    "    value_shifted = value * 10\n",
    "    value_rounded = np.round(value_shifted* 10) / 10\n",
    "    return value_rounded"
   ]
  },
  {
   "cell_type": "code",
   "execution_count": null,
   "metadata": {},
   "outputs": [],
   "source": [
    "df_predictions['LSTM_Predictions'] = df_predictions['LSTM_Predictions'].apply(round_by_second_digit)\n"
   ]
  },
  {
   "cell_type": "code",
   "execution_count": null,
   "metadata": {},
   "outputs": [],
   "source": [
    "mean_predictions = df_predictions.groupby('Date')['LSTM_Predictions'].mean()\n",
    "mean_actual = df_train.groupby('Date')['y_train'].mean()\n",
    "\n",
    "\n",
    "mean_predictions.index = pd.to_datetime(mean_predictions.index)\n",
    "mean_actual.index = pd.to_datetime(mean_actual.index)\n",
    "\n",
    "plot_series(mean_predictions, mean_actual, colors=['red', 'blue'], labels=['Predictions', 'Actual'])\n",
    "plt.show()"
   ]
  },
  {
   "cell_type": "code",
   "execution_count": null,
   "metadata": {},
   "outputs": [],
   "source": [
    "\n",
    "summary_df = pd.DataFrame({\n",
    "    'Model': [\n",
    "              #'ARIMA'\n",
    "              #, 'Prophet',\n",
    "              'LSTM'\n",
    "              ],\n",
    "    'MAE': [\n",
    "            #mean_absolute_error(y_test, arima_predictions),\n",
    "            #mean_absolute_error(y_train, prophet_predictions),\n",
    "            mean_absolute_error(y_test[:401565], lstm_test_predictions)\n",
    "            ],\n",
    "    'RMSE': [\n",
    "              #math.sqrt(mean_squared_error(y_test, arima_predictions)),\n",
    "             #math.sqrt(mean_squared_error(y_train, prophet_predictions)),\n",
    "             math.sqrt(mean_squared_error(y_test[:401565], lstm_test_predictions))\n",
    "             ],\n",
    "    'Training Time': [\n",
    "                      # arima_training_time\n",
    "                      #, prophet_training_time,\n",
    "                      lstm_training_time\n",
    "                      ]\n",
    "})\n",
    "\n",
    "summary_df.to_csv(f'{save_path}/lstm_summary_2.csv', index=False)"
   ]
  },
  {
   "cell_type": "code",
   "execution_count": null,
   "metadata": {},
   "outputs": [],
   "source": []
  }
 ],
 "metadata": {
  "interpreter": {
   "hash": "7bedbb5e4e6b699e454e73745692f91db2975f76647782c3f031c566fcb29008"
  },
  "kernelspec": {
   "display_name": "Python 3.8.10 ('myenv': venv)",
   "language": "python",
   "name": "python3"
  },
  "language_info": {
   "codemirror_mode": {
    "name": "ipython",
    "version": 3
   },
   "file_extension": ".py",
   "mimetype": "text/x-python",
   "name": "python",
   "nbconvert_exporter": "python",
   "pygments_lexer": "ipython3",
   "version": "3.8.10"
  },
  "orig_nbformat": 4
 },
 "nbformat": 4,
 "nbformat_minor": 2
}
